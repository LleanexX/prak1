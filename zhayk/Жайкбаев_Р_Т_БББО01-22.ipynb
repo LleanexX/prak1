{
 "cells": [
  {
   "cell_type": "markdown",
   "id": "d20bb831",
   "metadata": {},
   "source": [
    "### 1.1. Теоретический материал – Типы данных  \n",
    "**Типы данных**\n",
    "Все типы данных в Python относятся к одной из 2-х категорий:\n",
    "изменяемые (mutable) и неизменяемые (immutable).\n",
    "```\n",
    "Неизменяемые объекты:\n",
    "-числовые данные (int, float),\n",
    "- bool,\n",
    "- None,\n",
    "- символьные строки (class 'str'),\n",
    "- кортежи (tuple).\n",
    "Изменяемые объекты:\n",
    "- списки (list),\n",
    "- множества (set),\n",
    "- словари (dict).\n",
    "```\n",
    "**1.2. Пример** \\\n",
    "***Задача:*** \\\n",
    "Выведите на печать и определите тип переменной \\\n",
    "***Решение:*** "
   ]
  },
  {
   "cell_type": "code",
   "execution_count": 10,
   "id": "64a592aa",
   "metadata": {},
   "outputs": [
    {
     "name": "stdout",
     "output_type": "stream",
     "text": [
      "39.4 | <class 'float'> \n",
      " None | <class 'NoneType'> \n",
      " ('a', 5, 12.345, (2, 'b')) | <class 'tuple'> \n",
      " [['Антонова Антонина', 34, 'ж'], ['Борисов Борис', 26, 'м']] | <class 'list'> \n",
      " {'title', 1, 2, 'content'} | <class 'set'>\n"
     ]
    }
   ],
   "source": [
    "x = 3+5.2*7\n",
    "y = None\n",
    "z = 'a', 5, 12.345, (2,'b')\n",
    "df = [['Антонова Антонина', 34, 'ж'],['Борисов Борис',26,'м']]\n",
    "A = {1, 'title', 2, 'content'}\n",
    "print(x, '|', type(x), '\\n', y, '|', type(y), '\\n',z, '|', type(z), '\\n', df, '|', type(df), '\\n',A,'|',type(A))"
   ]
  },
  {
   "cell_type": "markdown",
   "id": "ab1d7c72",
   "metadata": {},
   "source": [
    "***Ответ:***"
   ]
  },
  {
   "cell_type": "markdown",
   "id": "54693656",
   "metadata": {},
   "source": [
    "```39.4 | <class 'float'> \n",
    " None | <class 'NoneType'> \n",
    " ('a', 5, 12.345, (2, 'b')) | <class 'tuple'> \n",
    " [['Антонова Антонина', 34, 'ж'], ['Борисов Борис', 26, 'м']] | <class 'list'> \n",
    " {'title', 1, 2, 'content'} | <class 'set'>```"
   ]
  },
  {
   "cell_type": "markdown",
   "id": "c94a89f9",
   "metadata": {},
   "source": [
    "**1.3. Задание** \\\n",
    "***Задача:*** \\\n",
    "Выведите на печать и определите тип переменной \\\n",
    "***Решение:***"
   ]
  },
  {
   "cell_type": "code",
   "execution_count": 13,
   "id": "210b30b5",
   "metadata": {
    "scrolled": false
   },
   "outputs": [
    {
     "name": "stdout",
     "output_type": "stream",
     "text": [
      "True | <class 'bool'> \n",
      " {8, 1, 3, 7} | <class 'set'> \n",
      " {2, 4, 5, 'apple', 10} | <class 'set'> \n",
      " set() | <class 'set'> \n",
      " ('Антонова Антонина', 34, 'ж') | <class 'tuple'> \n",
      " type | <class 'str'> \n",
      " [1, 'title', 2, 'content'] | <class 'list'>\n"
     ]
    }
   ],
   "source": [
    "x = 5 >= 2\n",
    "A = {1, 3, 7, 8}\n",
    "B = {2, 4, 5, 10, 'apple'}\n",
    "C = A & B\n",
    "df = 'Антонова Антонина', 34, 'ж'\n",
    "z= 'type'\n",
    "D= [1,'title', 2, 'content']\n",
    "print(x, '|', type(x), '\\n', A, '|', type(A), '\\n',B, '|', type(B), '\\n', C, '|', type(C), '\\n',df,'|',type(df), '\\n',z,'|',type(z), '\\n',D,'|',type(D))"
   ]
  },
  {
   "cell_type": "markdown",
   "id": "183ebee9",
   "metadata": {},
   "source": [
    "***Ответ:***"
   ]
  },
  {
   "cell_type": "markdown",
   "id": "658f0f2e",
   "metadata": {},
   "source": [
    "39.4 | <class 'float'>  \n",
    " None | <class 'NoneType'>  \n",
    " ('a', 5, 12.345, (2, 'b')) | <class 'tuple'>   \n",
    " [['Антонова Антонина', 34, 'ж'], ['Борисов Борис', 26, 'м']] | <class 'list'> \n",
    " {'title', 1, 2, 'content'} | <class 'set'> "
   ]
  },
  {
   "cell_type": "markdown",
   "id": "05be03ea",
   "metadata": {},
   "source": [
    "### 2.1. Теоретический материал – Условный оператор\n",
    "**If – Условный оператор**\n",
    "В коде часто приходится проверять выполнимость или\n",
    "невыполнимость каких-то условий. Синтаксис:\n",
    "if <условие1 (булевское выражение)> :\n",
    " <код, который выполнится, если условие верно>\n",
    "elif <условие2 (булевское выражение)>:\n",
    " <код, который выполнится, если условие1 было неверно, а\n",
    "условие2 верно>\n",
    "else:\n",
    " <код, который выполнится, если условие1 и условие2 были\n",
    "неверны>\n",
    "Обратите внимание, что код, который должен выполняться внутри\n",
    "каждого условия, записывается с отступом в 4 пробела от уровня if, elif и\n",
    "else: в питоне области видимости переменных обозначаются отступами. \\\n",
    "***То есть, отступы позволяют понять, где начинается код,\n",
    "который должен выполняться при выполнении условия в if, и где\n",
    "заканчивается.***\n"
   ]
  },
  {
   "cell_type": "markdown",
   "id": "20938bf1",
   "metadata": {},
   "source": [
    "**2.2. Пример** \\\n",
    "***Задача:*** \\\n",
    "Вывести на экран является ли переменная x положительной, или отрицательной или равна нулю. \\\n",
    "***Решение:***"
   ]
  },
  {
   "cell_type": "code",
   "execution_count": 14,
   "id": "ecad021f",
   "metadata": {},
   "outputs": [
    {
     "name": "stdout",
     "output_type": "stream",
     "text": [
      "x положительный\n"
     ]
    }
   ],
   "source": [
    "x = 125\n",
    "if x < 0:\n",
    "    print(\"x отрицательный\")\n",
    "elif x == 0:\n",
    "    print(\"x равен нулю\")\n",
    "else:\n",
    "    print(\"x положительный\")"
   ]
  },
  {
   "cell_type": "markdown",
   "id": "6ce5700f",
   "metadata": {},
   "source": [
    "***Ответ:***"
   ]
  },
  {
   "cell_type": "markdown",
   "id": "bdd13c38",
   "metadata": {},
   "source": [
    "x положительный"
   ]
  },
  {
   "cell_type": "markdown",
   "id": "c696164e",
   "metadata": {},
   "source": [
    "**2.2. Задание** \\\n",
    "***Задача:*** \\\n",
    "Напишите код. Задается х, напечатать какому из интервалов\n",
    "принадлежит: (-infinity, -5), [-5, 5] или от (5, +infinity) \\\n",
    "***Решение:***"
   ]
  },
  {
   "cell_type": "code",
   "execution_count": 17,
   "id": "dbb9e79e",
   "metadata": {},
   "outputs": [
    {
     "name": "stdout",
     "output_type": "stream",
     "text": [
      "x принадлежит (5,+infinity)\n"
     ]
    }
   ],
   "source": [
    "x = 125\n",
    "if x < -5:\n",
    "    print(\"x принадлежит (-infinity,-5)\")\n",
    "elif (x >= -5 and x<= 5):\n",
    "    print(\"x принадлежит [-5,5]\")\n",
    "elif (x >5 ):\n",
    "    print(\"x принадлежит (5,+infinity)\")\n",
    "\n"
   ]
  },
  {
   "cell_type": "markdown",
   "id": "9eed88f2",
   "metadata": {},
   "source": [
    "***Ответ:***"
   ]
  },
  {
   "cell_type": "markdown",
   "id": "1f85012c",
   "metadata": {},
   "source": [
    "x принадлежит (5,+infinity)"
   ]
  },
  {
   "cell_type": "markdown",
   "id": "fb63704d",
   "metadata": {},
   "source": [
    "## 3.1. Теоретический материал – Циклы, массивы, срезы\n",
    "**Циклы - for и while**  \n",
    "Цикл while проверяет истинность условия, и если условие истинно, то\n",
    "выполняет инструкции цикла.\n",
    "Синтаксис:\n",
    "while условие:\n",
    " инструкции\n",
    "Инструкции, которые относятся к циклу while, располагаются на\n",
    "последующих строках и должны иметь отступ от начала ключевого слова\n",
    "while.\n",
    "Цикл **for** проходит по набору значений, помещает каждое значение в\n",
    "переменную с которой в цикле можно производить различные действия.\n",
    "Синтаксис:\n",
    "for переменная in набор_значений:\n",
    " инструкции\n",
    "После ключевого слова **for** идет название переменной, в которую\n",
    "будут помещаться значения. После оператора **in** указывается набор значений\n",
    "и двоеточие. Инструкции, которые относятся к циклу, располагаются на\n",
    "последующих строках и должны иметь отступ.\n",
    "При создании цикла удобно пользоваться функцией **range(a, b),**\n",
    "которая создает последовательность чисел от **a** до **b-1.**"
   ]
  },
  {
   "cell_type": "markdown",
   "id": "679ad320",
   "metadata": {},
   "source": [
    "**3.2.1. Пример** \\\n",
    "***Задача:*** \\\n",
    "Вывести на экран все числа от 1 до 10 с шагом 3. \\\n",
    "***Решение:***"
   ]
  },
  {
   "cell_type": "code",
   "execution_count": 18,
   "id": "8ed1ed76",
   "metadata": {},
   "outputs": [
    {
     "name": "stdout",
     "output_type": "stream",
     "text": [
      "1\n",
      "4\n",
      "7\n",
      "10\n"
     ]
    }
   ],
   "source": [
    "x = 1 \n",
    "while x <= 10:\n",
    "    print(x)\n",
    "    x+=3"
   ]
  },
  {
   "cell_type": "markdown",
   "id": "d163630f",
   "metadata": {},
   "source": [
    "***Ответ:***"
   ]
  },
  {
   "cell_type": "markdown",
   "id": "f411cc4a",
   "metadata": {},
   "source": [
    "1\n",
    "4\n",
    "7\n",
    "10"
   ]
  },
  {
   "cell_type": "markdown",
   "id": "5ae2897a",
   "metadata": {},
   "source": [
    "**3.2.2. Пример** \\\n",
    "***Задача:*** \\\n",
    "Задан список. Напечатать все элементы списка. \\\n",
    "***Решение:***"
   ]
  },
  {
   "cell_type": "code",
   "execution_count": 22,
   "id": "4f743149",
   "metadata": {},
   "outputs": [
    {
     "name": "stdout",
     "output_type": "stream",
     "text": [
      "KNN\n",
      "decision tree\n",
      "linear model\n"
     ]
    }
   ],
   "source": [
    "models = ['KNN', 'decision tree', 'linear model']\n",
    "for model in models:\n",
    "    print(model)\n"
   ]
  },
  {
   "cell_type": "markdown",
   "id": "2e1d5b8d",
   "metadata": {},
   "source": [
    "***Ответ:***"
   ]
  },
  {
   "cell_type": "markdown",
   "id": "fc66230d",
   "metadata": {},
   "source": [
    "KNN\n",
    "decision tree\n",
    "linear model\n"
   ]
  },
  {
   "cell_type": "markdown",
   "id": "064c35be",
   "metadata": {},
   "source": [
    "**3.2.3. Пример** \\\n",
    "***Задача:*** \\\n",
    "Создать список от 1 до 99 с шагом 7. \\\n",
    "***Решение:***"
   ]
  },
  {
   "cell_type": "code",
   "execution_count": 25,
   "id": "5d08fcd0",
   "metadata": {},
   "outputs": [
    {
     "name": "stdout",
     "output_type": "stream",
     "text": [
      "[1, 8, 15, 22, 29, 36, 43, 50, 57, 64, 71, 78, 85, 92, 99]\n"
     ]
    }
   ],
   "source": [
    "list_int = range(1,100,7)\n",
    "print(list(list_int))"
   ]
  },
  {
   "cell_type": "markdown",
   "id": "03b8acb5",
   "metadata": {},
   "source": [
    "***Ответ:***"
   ]
  },
  {
   "cell_type": "markdown",
   "id": "5cb9c945",
   "metadata": {},
   "source": [
    "[1, 8, 15, 22, 29, 36, 43, 50, 57, 64, 71, 78, 85, 92, 99]"
   ]
  },
  {
   "cell_type": "markdown",
   "id": "11180ef2",
   "metadata": {},
   "source": [
    "**3.2.4. Пример** \\\n",
    "***Задача:*** \\\n",
    "Вывести на экран числа от 1 до 105 с шагом 25, используя функцию\n",
    "range(). \\\n",
    "***Решение:***"
   ]
  },
  {
   "cell_type": "code",
   "execution_count": 26,
   "id": "e02f5208",
   "metadata": {},
   "outputs": [
    {
     "name": "stdout",
     "output_type": "stream",
     "text": [
      "5\n",
      "30\n",
      "55\n",
      "80\n",
      "105\n"
     ]
    }
   ],
   "source": [
    "for i in range(5,106,25):\n",
    "    print(i)"
   ]
  },
  {
   "cell_type": "markdown",
   "id": "f4a6f507",
   "metadata": {},
   "source": [
    "***Ответ:***"
   ]
  },
  {
   "cell_type": "markdown",
   "id": "ca5e52c6",
   "metadata": {},
   "source": [
    "5\n",
    "30\n",
    "55\n",
    "80\n",
    "105"
   ]
  },
  {
   "cell_type": "markdown",
   "id": "abeac586",
   "metadata": {},
   "source": [
    "**3.2.5. Пример** \\\n",
    "***Задача:*** \\\n",
    "Срез. Необходимо получить каждый k-й элемент массива a, начиная с\n",
    "элемента с индексом i (включительно) и заканчивая элементом с\n",
    "индексом j (не включительно), c шагом 2. Или переставить все\n",
    "элементы в обратном порядке. \\\n",
    "***Решение:***"
   ]
  },
  {
   "cell_type": "code",
   "execution_count": 27,
   "id": "b7f35e14",
   "metadata": {},
   "outputs": [
    {
     "name": "stdout",
     "output_type": "stream",
     "text": [
      "[2, 4, 6]\n",
      "[9, 8, 7, 6, 5, 4, 3, 2, 1]\n"
     ]
    }
   ],
   "source": [
    "a = [1,2,3,4,5,6,7,8,9]\n",
    "b = a[1:7:2]\n",
    "c = a[::-1]\n",
    "print(b)\n",
    "print(c)"
   ]
  },
  {
   "cell_type": "markdown",
   "id": "0214aa12",
   "metadata": {},
   "source": [
    "***Ответ:***\n"
   ]
  },
  {
   "cell_type": "markdown",
   "id": "e06ebfcd",
   "metadata": {},
   "source": [
    "[2, 4, 6]\n",
    "[9, 8, 7, 6, 5, 4, 3, 2, 1]"
   ]
  },
  {
   "cell_type": "markdown",
   "id": "faf1a718",
   "metadata": {},
   "source": [
    "**3.3.1 Задание** \\\n",
    "***Задача:*** \\\n",
    " Выведите числа из примера на while (3.2.1) в обратном порядке.\\\n",
    "***Решение:***"
   ]
  },
  {
   "cell_type": "code",
   "execution_count": 36,
   "id": "6c00d1f3",
   "metadata": {},
   "outputs": [
    {
     "name": "stdout",
     "output_type": "stream",
     "text": [
      "10\n",
      "7\n",
      "4\n",
      "1\n"
     ]
    }
   ],
   "source": [
    "x = 10\n",
    "while x >= 1:\n",
    "    print (x)\n",
    "    x-=3\n"
   ]
  },
  {
   "cell_type": "markdown",
   "id": "02ed7048",
   "metadata": {},
   "source": [
    "***Ответ:***"
   ]
  },
  {
   "cell_type": "markdown",
   "id": "e7f04933",
   "metadata": {},
   "source": [
    "10\n",
    "7\n",
    "4\n",
    "1"
   ]
  },
  {
   "cell_type": "markdown",
   "id": "25f00a48",
   "metadata": {},
   "source": [
    "**3.3.2 Задание** \\\n",
    "***Задача:*** \\\n",
    " При решении задач машинного обучения часто в качестве объектов\n",
    "исследования выступает человек. Создайте список значимых\n",
    "характеристик (признаков), идентифицирующих человека. Выведите\n",
    "список на экран.\n",
    "\\\n",
    "***Решение:***"
   ]
  },
  {
   "cell_type": "code",
   "execution_count": 29,
   "id": "3938762c",
   "metadata": {},
   "outputs": [
    {
     "name": "stdout",
     "output_type": "stream",
     "text": [
      "Разумность\n",
      "Логическое мышление\n",
      "Умение анализировать и адаптироваться\n"
     ]
    }
   ],
   "source": [
    "human_characts = ['Разумность','Логическое мышление','Умение анализировать и адаптироваться']\n",
    "for charact in human_characts:\n",
    "    print (charact)"
   ]
  },
  {
   "cell_type": "markdown",
   "id": "5ad166ca",
   "metadata": {},
   "source": [
    "***Ответ:***"
   ]
  },
  {
   "cell_type": "markdown",
   "id": "128983e9",
   "metadata": {},
   "source": [
    "Разумность\n",
    "Логическое мышление\n",
    "Умение анализировать и адаптироваться"
   ]
  },
  {
   "cell_type": "markdown",
   "id": "694415f0",
   "metadata": {},
   "source": [
    "**3.3.3 Задание** \\\n",
    "***Задача:*** \\\n",
    " Создать список чисел от 2 до 15 с шагом 1.\n",
    "\\\n",
    "***Решение:***"
   ]
  },
  {
   "cell_type": "code",
   "execution_count": 30,
   "id": "341cda2a",
   "metadata": {},
   "outputs": [
    {
     "name": "stdout",
     "output_type": "stream",
     "text": [
      "[2, 3, 4, 5, 6, 7, 8, 9, 10, 11, 12, 13, 14, 15]\n"
     ]
    }
   ],
   "source": [
    "list_int = range(2,16,1)\n",
    "print(list(list_int))"
   ]
  },
  {
   "cell_type": "markdown",
   "id": "e3f482d0",
   "metadata": {},
   "source": [
    "***Ответ:***"
   ]
  },
  {
   "cell_type": "markdown",
   "id": "5412675a",
   "metadata": {},
   "source": [
    "[2, 3, 4, 5, 6, 7, 8, 9, 10, 11, 12, 13, 14, 15]"
   ]
  },
  {
   "cell_type": "markdown",
   "id": "6e549fbe",
   "metadata": {},
   "source": [
    "**3.3.4 Задание** \\\n",
    "***Задача:*** \\\n",
    " Выведите числа из примера на for c функцией range() (3.2.4) в\n",
    "обратном порядке.\n",
    "\\\n",
    "***Решение:***"
   ]
  },
  {
   "cell_type": "code",
   "execution_count": 32,
   "id": "faa7b2a9",
   "metadata": {},
   "outputs": [
    {
     "name": "stdout",
     "output_type": "stream",
     "text": [
      "105\n",
      "80\n",
      "55\n",
      "30\n",
      "5\n"
     ]
    }
   ],
   "source": [
    "for i in range(105, 4, -25):\n",
    "    print(i)"
   ]
  },
  {
   "cell_type": "markdown",
   "id": "fdd59b05",
   "metadata": {},
   "source": [
    "***Ответ:***"
   ]
  },
  {
   "cell_type": "markdown",
   "id": "5d534956",
   "metadata": {},
   "source": [
    "105\n",
    "80\n",
    "55\n",
    "30\n",
    "5"
   ]
  },
  {
   "cell_type": "markdown",
   "id": "de3e8b9c",
   "metadata": {},
   "source": [
    "**3.3.5 Задание** \\\n",
    "***Задача:*** \\\n",
    " Срез. Напишите код, который все элементы массива x с четными\n",
    "индексами переставит в обратном порядке. Т.е. если x = [0, 1, 2, 3, 4,\n",
    "5, 6, 7, 8, 9], то код должен сформировать [8, 1, 6, 3, 4, 5, 2, 7, 0, 9].\n",
    ".\n",
    "\\\n",
    "***Решение:***"
   ]
  },
  {
   "cell_type": "code",
   "execution_count": 9,
   "id": "1e903d90",
   "metadata": {},
   "outputs": [
    {
     "name": "stdout",
     "output_type": "stream",
     "text": [
      "[8, 1, 6, 3, 4, 5, 2, 7, 0, 9]\n"
     ]
    }
   ],
   "source": [
    "x = [0, 1, 2, 3, 4, 5, 6, 7, 8, 9]\n",
    "x[0::2] = reversed(x[0::2])\n",
    "print(x)\n"
   ]
  },
  {
   "cell_type": "markdown",
   "id": "453957da",
   "metadata": {},
   "source": [
    "***Ответ:***\n"
   ]
  },
  {
   "cell_type": "markdown",
   "id": "cfce52a7",
   "metadata": {},
   "source": [
    "[8, 1, 6, 3, 4, 5, 2, 7, 0, 9]"
   ]
  },
  {
   "cell_type": "markdown",
   "id": "13624565",
   "metadata": {},
   "source": [
    "## 4.1. Теоретический материал - Библиотеки\n",
    "Машинное обучение опирается на фундаментальные понятия и законы\n",
    "математики и информатики. Библиотека математических функций (math)\n",
    "применяется при решении большинства прикладных задач анализа данных.\n",
    "Также, и некоторые другие библиотеки Python содержат математические\n",
    "функции (например, NumPy). Важную роль играет библиотека matplotlib,\n",
    "которая позволяет производить визуализацию расчетов в удобной для\n",
    "восприятия человеком форме: графики, диаграммы, гистограммы.\n",
    "Подключение библиотек – синтаксис:\n",
    "import math as m\n",
    "import numpy as np\n",
    "import matplotlib.pyplot as plt\n",
    "etc…\n",
    "Библиотеки в python содержат не только функции, позволяющие решать\n",
    "различные задачи, но и некоторые популярные константы, например число\n",
    "Эйлера."
   ]
  },
  {
   "cell_type": "markdown",
   "id": "fda2b1f4",
   "metadata": {},
   "source": [
    "**4.2.1. Пример** \\\n",
    "***Задача:*** \\\n",
    "Рассчитать синус от e радиан и вывести результат на экран \\\n",
    "***Решение:***"
   ]
  },
  {
   "cell_type": "code",
   "execution_count": 37,
   "id": "61ac2b8d",
   "metadata": {},
   "outputs": [
    {
     "name": "stdout",
     "output_type": "stream",
     "text": [
      "0.41078129050290885\n"
     ]
    }
   ],
   "source": [
    "import math as m\n",
    "print (m.sin(m.e))"
   ]
  },
  {
   "cell_type": "markdown",
   "id": "76493a30",
   "metadata": {},
   "source": [
    "***Ответ:***"
   ]
  },
  {
   "cell_type": "markdown",
   "id": "f9ba1162",
   "metadata": {},
   "source": [
    "0.41078129050290885"
   ]
  },
  {
   "cell_type": "markdown",
   "id": "9fe0b27e",
   "metadata": {},
   "source": [
    "**4.2.2. Пример** \\\n",
    "***Задача:*** \\\n",
    " Для функции sin(𝑥𝑒\n",
    "cos(𝑥)\n",
    ") на интервале [0;10] с шагом 0,05 построить\n",
    "график функции, закрасить площадь под ним и вычислить значение\n",
    "этой площади.\n",
    "Для вычисления площади воспользуйте функции trapz(), вычисляющей\n",
    "интеграл по правилу трапеции. Для ее корректной работы необходимо\n",
    "подключить следующие библиотеки:\n",
    "from scipy.integrate import simps\n",
    "from numpy import trapz \\\n",
    "***Решение:***\n"
   ]
  },
  {
   "cell_type": "code",
   "execution_count": 41,
   "id": "4882d94a",
   "metadata": {},
   "outputs": [
    {
     "name": "stdout",
     "output_type": "stream",
     "text": [
      "73.50792907748662\n"
     ]
    },
    {
     "data": {
      "image/png": "[encoded data removed]",
      "text/plain": [
       "<Figure size 640x480 with 1 Axes>"
      ]
     },
     "metadata": {},
     "output_type": "display_data"
    }
   ],
   "source": [
    "import numpy as np\n",
    "import matplotlib.pyplot as plt\n",
    "from scipy.integrate import simps\n",
    "from numpy import trapz\n",
    "x = np.arange(0.0, 10, 0.1)\n",
    "y = np.abs(np.sin(x*np.exp(np.cos(x))))\n",
    "plt.grid()\n",
    "plt.plot(x, y, c =\"r\")\n",
    "plt.fill_between(x,y)\n",
    "\n",
    "area = trapz(y)\n",
    "print(area)\n"
   ]
  },
  {
   "cell_type": "markdown",
   "id": "c0a60efd",
   "metadata": {},
   "source": [
    "***Ответ:***"
   ]
  },
  {
   "cell_type": "markdown",
   "id": "9da58764",
   "metadata": {},
   "source": [
    "73.50792907748662\n",
    "![](124.png)"
   ]
  },
  {
   "cell_type": "markdown",
   "id": "90772eba",
   "metadata": {},
   "source": [
    "**4.2.3. Пример** \\\n",
    "***Задача:*** \\\n",
    " Дано некоторое распределение оценок в группе за экзамен. Нарисовать\n",
    "круговую и точечную диаграммы распределения. \\\n",
    "***Решение:***"
   ]
  },
  {
   "cell_type": "code",
   "execution_count": 12,
   "id": "6141c0a5",
   "metadata": {
    "scrolled": true
   },
   "outputs": [
    {
     "data": {
      "image/png": "[encoded data removed]",
      "text/plain": [
       "<Figure size 1000x700 with 1 Axes>"
      ]
     },
     "metadata": {},
     "output_type": "display_data"
    },
    {
     "data": {
      "text/plain": [
       "<matplotlib.collections.PathCollection at 0x1a845583f90>"
      ]
     },
     "execution_count": 12,
     "metadata": {},
     "output_type": "execute_result"
    },
    {
     "data": {
      "image/png": "[encoded data removed]",
      "text/plain": [
       "<Figure size 640x480 with 1 Axes>"
      ]
     },
     "metadata": {},
     "output_type": "display_data"
    }
   ],
   "source": [
    "from matplotlib import pyplot as plt\n",
    "import numpy as np\n",
    "marks = ['Неуд','Удовл', 'Хор', 'Отл']\n",
    "\n",
    "data = [3,7,8,4]\n",
    "fig = plt.figure(figsize =(10,7))\n",
    "plt.pie(data, labels = marks )\n",
    "plt.show()\n",
    "plt.grid()\n",
    "plt.scatter (marks,data)\n"
   ]
  },
  {
   "cell_type": "markdown",
   "id": "62f2aff6",
   "metadata": {},
   "source": [
    "\n",
    "***Ответ:***"
   ]
  },
  {
   "cell_type": "markdown",
   "id": "b9a27ada",
   "metadata": {},
   "source": [
    "![](123.png)\n",
    "![](125.png)"
   ]
  },
  {
   "cell_type": "markdown",
   "id": "65e1b0d9",
   "metadata": {},
   "source": [
    "**4.3.1 Задание** \\\n",
    "***Задача:*** \\\n",
    " Задайте массив случайных значений из интервала(0; 1).\n",
    "Рассчитайте средние и медианные значения для массива, сравните\n",
    "результаты, какие выводы можно сделать о значениях?\n",
    "Постройте точечную диаграмму рассения полученного ряда.\n",
    "\\\n",
    "***Решение:***"
   ]
  },
  {
   "cell_type": "code",
   "execution_count": 18,
   "id": "e76d1fb8",
   "metadata": {},
   "outputs": [
    {
     "name": "stdout",
     "output_type": "stream",
     "text": [
      "Среднее значение - 0.5119414186480382 \n",
      "Медианное значение - 0.5355859490887049\n"
     ]
    },
    {
     "data": {
      "image/png": "[encoded data removed]",
      "text/plain": [
       "<Figure size 640x480 with 1 Axes>"
      ]
     },
     "metadata": {},
     "output_type": "display_data"
    }
   ],
   "source": [
    "import numpy as np\n",
    "import matplotlib.pyplot as plt\n",
    "\n",
    "rand = np.random.random(100)\n",
    "y = np.arange(len(rand))\n",
    "\n",
    "average = np.average(rand)\n",
    "median = np.median(rand)\n",
    "\n",
    "print(f'Среднее значение - {average} \\nМедианное значение - {median}')\n",
    "\n",
    "plt.scatter(y, rand)\n",
    "\n",
    "plt.show()"
   ]
  },
  {
   "cell_type": "markdown",
   "id": "287de147",
   "metadata": {},
   "source": [
    "***Ответ:***"
   ]
  },
  {
   "cell_type": "markdown",
   "id": "fe856201",
   "metadata": {},
   "source": [
    "Среднее значение - 0.5119414186480382 \n",
    "Медианное значение - 0.5355859490887049\n",
    "![](126.png)"
   ]
  },
  {
   "cell_type": "markdown",
   "id": "e22c3a8d",
   "metadata": {},
   "source": [
    "**4.3.2 Задание** \\\n",
    "***Задача:*** \\\n",
    " Дана функция\n",
    "Создать массив из 10 значений\n",
    "функции (𝑥, например, изменяется от 1 до 10). Выделить срез первой\n",
    "половины массива и построить графики для основного массива –\n",
    "линейный и для среза – точечный\n",
    "\n",
    "\\\n",
    "***Решение:***"
   ]
  },
  {
   "cell_type": "code",
   "execution_count": 31,
   "id": "f16810c7",
   "metadata": {},
   "outputs": [
    {
     "data": {
      "image/png": "[encoded data removed]",
      "text/plain": [
       "<Figure size 640x480 with 1 Axes>"
      ]
     },
     "metadata": {},
     "output_type": "display_data"
    },
    {
     "data": {
      "image/png": "[encoded data removed]",
      "text/plain": [
       "<Figure size 1000x600 with 1 Axes>"
      ]
     },
     "metadata": {},
     "output_type": "display_data"
    }
   ],
   "source": [
    "from matplotlib import pyplot as plt\n",
    "import math\n",
    "\n",
    "function = []\n",
    "for x in range(1,11):\n",
    "      function.append((math.sqrt(1 + math.e ** math.sqrt(x) + math.cos(x**2)))/abs(1- (math.sin(x))**3)) \n",
    "newfunction = function[:5] \n",
    "plt.plot(function) \n",
    "plt.show()\n",
    "fig, ax = plt.subplots(figsize=(10, 6)) \n",
    "ax.scatter(newfunction, newfunction)\n",
    "plt.show()"
   ]
  },
  {
   "cell_type": "markdown",
   "id": "ca90c564",
   "metadata": {},
   "source": [
    "***Ответ:***"
   ]
  },
  {
   "cell_type": "markdown",
   "id": "54f5e2c9",
   "metadata": {},
   "source": [
    "![](140.png)\n",
    "![](150.png)"
   ]
  },
  {
   "cell_type": "markdown",
   "id": "90f26976",
   "metadata": {},
   "source": [
    "**4.3.3 Задание** \\\n",
    "***Задача:*** \\\n",
    "Дана функция |cos(𝑥𝑒\n",
    "(cos(𝑥)+ln(𝑥+1))\n",
    ")| Построить график на\n",
    "интервале (0,10) с шагом 1 с заливкой площади и найти эту площадь\n",
    "под ним. Для вычисления площади воспользуйте функции trapz(),\n",
    "вычисляющей интеграл по правилу трапеции.\n",
    "Для ее корректной работы необходимо подключить следующие\n",
    "библиотеки:\n",
    "from scipy.integrate import simps\n",
    "from numpy import trapz\n",
    "\n",
    "\\\n",
    "***Решение:***"
   ]
  },
  {
   "cell_type": "code",
   "execution_count": 30,
   "id": "9859bad8",
   "metadata": {},
   "outputs": [
    {
     "data": {
      "image/png": "[encoded data removed]",
      "text/plain": [
       "<Figure size 640x480 with 1 Axes>"
      ]
     },
     "metadata": {},
     "output_type": "display_data"
    },
    {
     "name": "stdout",
     "output_type": "stream",
     "text": [
      "6.260345875494747\n"
     ]
    }
   ],
   "source": [
    "from numpy import trapz\n",
    "import numpy as np\n",
    "\n",
    "x = np.arange(0.0, 10) \n",
    "y = np.abs(np.cos(x * np.exp(np.cos(x) + np.log(x+1)))) \n",
    "\n",
    "plt.grid()\n",
    "plt.plot(x, y, c = 'black')\n",
    "plt.fill_between(x,y)\n",
    "plt.show()\n",
    "\n",
    "print(trapz(y))"
   ]
  },
  {
   "cell_type": "markdown",
   "id": "0ddf3f65",
   "metadata": {},
   "source": [
    "***Ответ:***"
   ]
  },
  {
   "cell_type": "markdown",
   "id": "a74361eb",
   "metadata": {},
   "source": [
    "6.260345875494747\n",
    "![](155.png)"
   ]
  },
  {
   "cell_type": "markdown",
   "id": "b49d4924",
   "metadata": {},
   "source": [
    "**4.3.4 Задание** \\\n",
    "***Задача:*** \\\n",
    "Откройте статистические данные по стоимости акций Apple,\n",
    "Microsoft, Google за 12 месяцев 2021 г. Постройте 3 графика на\n",
    "плоскости и оцените их динамику. Подумайте, как можно улучшить\n",
    "читаемость результатов.\n",
    "Для начальных данных допустимо использовать следующий ресурс:\n",
    "https://finance.yahoo.com\n",
    "\n",
    "\\\n",
    "***Решение:***\n"
   ]
  },
  {
   "cell_type": "code",
   "execution_count": 23,
   "id": "02d17fbc",
   "metadata": {},
   "outputs": [
    {
     "data": {
      "image/png": "[encoded data removed]",
      "text/plain": [
       "<Figure size 640x480 with 1 Axes>"
      ]
     },
     "metadata": {},
     "output_type": "display_data"
    }
   ],
   "source": [
    "from matplotlib import pyplot as plt\n",
    "Apple = [131.96, 124.61, 136.96, 124.47, 152.83, 167.29, 170.34, 165.12, 174.01, 156.71, 148.8, 136.72, 149.9]\n",
    "Microsoft = [222.53, 235.06, 235.90, 238.47, 254.40, 251.21, 269.51, 286.36, 302.87, 282.12, 331.36, 335.15, 310.41]\n",
    "Google = [87.8, 96.2, 102.3, 104.90, 120.14, 121.10, 124.85, 135.48, 145.65, 133.55, 148.16, 144.21, 144.48]\n",
    "\n",
    "plt.plot(Apple, label='Apple')\n",
    "plt.plot(Microsoft, label='Microsoft')\n",
    "plt.plot(Google, label='Google')\n",
    "plt.legend() \n",
    "plt.grid() \n",
    "plt.xlabel('Месяцы 2021 года')\n",
    "plt.ylabel('Стоимость акций')\n",
    "plt.show()"
   ]
  },
  {
   "cell_type": "markdown",
   "id": "492912e8",
   "metadata": {},
   "source": [
    "***Ответ:***"
   ]
  },
  {
   "cell_type": "markdown",
   "id": "7a1f56bd",
   "metadata": {},
   "source": [
    "![](130.png)"
   ]
  },
  {
   "cell_type": "markdown",
   "id": "dc41d01d",
   "metadata": {},
   "source": [
    "**4.3.5 Задание** \\\n",
    "***Задача:*** \\\n",
    "Создайте простейший калькулятор, включающий основные действия\n",
    "для двух переменных ′ + ′, ′ − ′, ′ ∙ ′, ′ ÷ ′, а также вычисление\n",
    "следующих функций: 𝑒\n",
    "𝑥+𝑦\n",
    ", sin(𝑥 + 𝑦) , cos(𝑥 + 𝑦) , 𝑥\n",
    "𝑦\n",
    ".\n",
    "\\\n",
    "***Решение:***"
   ]
  },
  {
   "cell_type": "code",
   "execution_count": 25,
   "id": "c726c726",
   "metadata": {},
   "outputs": [
    {
     "name": "stdout",
     "output_type": "stream",
     "text": [
      "Введите x: 10\n",
      "Введите y:50\n",
      "Введите действие (1 - +, 2 - -, 3 - *, 4 - /, 5 - e^(x=y), 6 - sin(x+y), 7 - cos(x+y), 8 - x**y):5\n",
      "1.1420073898156806e+26\n"
     ]
    }
   ],
   "source": [
    "from math import *\n",
    "\n",
    "x = int(input('Введите x: '))\n",
    "y = int(input('Введите y:'))\n",
    "action = int(input('Введите действие (1 - +, 2 - -, 3 - *, 4 - /, 5 - e^(x=y), 6 - sin(x+y), 7 - cos(x+y), 8 - x**y):'))\n",
    "\n",
    "if action == 1:\n",
    "    print(x+y)\n",
    "elif action == 2:\n",
    "    print(x-y)\n",
    "elif action == 3:\n",
    "    print(x*y)\n",
    "elif action == 4:\n",
    "    if (y == 0):\n",
    "        print('На ноль делить нельзя!')\n",
    "    else:\n",
    "        print(x/y)\n",
    "elif action == 5:\n",
    "    print(e**(x+y))\n",
    "elif action == 6:\n",
    "    print(sin(x+y))\n",
    "elif action == 7:\n",
    "    print(cos(x+y))\n",
    "elif action == 8:\n",
    "    print(x**y)\n"
   ]
  },
  {
   "cell_type": "markdown",
   "id": "3152eeea",
   "metadata": {},
   "source": [
    "***Ответ:***"
   ]
  },
  {
   "cell_type": "code",
   "execution_count": null,
   "id": "e8a5917e",
   "metadata": {},
   "outputs": [],
   "source": []
  }
 ],
 "metadata": {
  "kernelspec": {
   "display_name": "Python 3 (ipykernel)",
   "language": "python",
   "name": "python3"
  },
  "language_info": {
   "codemirror_mode": {
    "name": "ipython",
    "version": 3
   },
   "file_extension": ".py",
   "mimetype": "text/x-python",
   "name": "python",
   "nbconvert_exporter": "python",
   "pygments_lexer": "ipython3",
   "version": "3.11.4"
  }
 },
 "nbformat": 4,
 "nbformat_minor": 5
}
